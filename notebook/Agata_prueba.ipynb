{
 "cells": [
  {
   "cell_type": "code",
   "execution_count": 1,
   "metadata": {},
   "outputs": [],
   "source": [
    "### librerias lectura y visualizacion\n",
    "import pandas as pd\n",
    "import numpy as np\n",
    "import plotly.express as px\n",
    "import os\n",
    "import warnings\n",
    "warnings.simplefilter(\"ignore\")\n",
    "pd.options.display.max_columns = None\n",
    "import seaborn as sns\n",
    "\n",
    "#### librerias para procesamiento y modelado\n",
    "from sklearn.preprocessing import OneHotEncoder\n",
    "from sklearn.preprocessing import StandardScaler\n",
    "from sklearn.preprocessing import LabelEncoder\n",
    "from sklearn.pipeline import Pipeline\n",
    "from sklearn.pipeline import FeatureUnion\n",
    "from sklearn.compose import ColumnTransformer\n",
    "from sklearn.ensemble import RandomForestClassifier,GradientBoostingClassifier,BaggingClassifier,AdaBoostClassifier\n",
    "from sklearn.linear_model import LogisticRegression\n",
    "from sklearn.impute import SimpleImputer\n",
    "from sklearn.model_selection import train_test_split\n",
    "import joblib\n",
    "### libreria exportar modelos\n",
    "import joblib\n",
    "import panel as pn\n",
    "### libreria tiempo ejecucion\n",
    "from tqdm import tqdm\n",
    "from scipy.stats import chi2_contingency\n",
    "### libraria para graficos\n",
    "import panel as pn\n",
    "### libreia metricas\n",
    "from sklearn.metrics import classification_report,roc_auc_score"
   ]
  },
  {
   "attachments": {},
   "cell_type": "markdown",
   "metadata": {},
   "source": [
    "#### Lectura del Dataframe\n"
   ]
  },
  {
   "cell_type": "code",
   "execution_count": 2,
   "metadata": {},
   "outputs": [],
   "source": [
    "ruta_proce = \"../data/raw/\""
   ]
  },
  {
   "cell_type": "code",
   "execution_count": 3,
   "metadata": {},
   "outputs": [],
   "source": [
    "#### Clase para procesamiento, lectura y visualización\n",
    "class ProcesamientoInicial:\n",
    "    def __init__(self,ruta):\n",
    "        self.ruta=ruta\n",
    "        self.df= pd.read_csv(os.path.join(self.ruta,\"diabetic_data.csv\"))\n",
    "        self.categorias = pd.read_csv(os.path.join(self.ruta,\"IDs_mapping.csv\"),header=None,sep=\",\")\n",
    "    def Procesamientocategoriascodigos(self):\n",
    "        self.categorias.dropna(how='all',inplace=True)\n",
    "        ### vamos a buscar las posiciones para filtral el dataframe\n",
    "        positions=[list(self.categorias[0]).index(\"admission_type_id\"),\n",
    "        list(self.categorias[0]).index(\"discharge_disposition_id\"),\n",
    "        list(self.categorias[0]).index(\"admission_source_id\")]\n",
    "        #### dividimos el dataframe en subconjuntos y los guardamos en un diccionario\n",
    "        dataframes = {}\n",
    "        dataframes['admission_type_id']=self.categorias.iloc[positions[0]:positions[1]].reset_index(drop=True)\n",
    "        dataframes['discharge_disposition_id']=self.categorias.iloc[positions[1]:positions[2]].reset_index(drop=True)\n",
    "        dataframes['admission_source_id']=self.categorias.iloc[positions[2]:].reset_index(drop=True)\n",
    "\n",
    "        self.dataframes = dataframes\n",
    "    def Cambiocategorias(self):\n",
    "        ### transformamos el tipo de dato para el bucle\n",
    "        self.df['admission_type_id'] = self.df['admission_type_id'].apply(lambda x: str(x))\n",
    "        self.df['discharge_disposition_id'] = self.df['discharge_disposition_id'].apply(lambda x: str(x))\n",
    "        self.df['admission_source_id'] = self.df['admission_source_id'].apply(lambda x: str(x))\n",
    "        #### for que va a cambiar el código de cada tipo de caregoria\n",
    "        for var in tqdm(['admission_type_id','discharge_disposition_id','admission_source_id']):\n",
    "            for admin in self.df.index:\n",
    "                paso1 = self.df.at[admin,var]\n",
    "                df_paso = self.dataframes[var].drop(0)\n",
    "                \n",
    "                for das in df_paso[0]:\n",
    "                    if paso1==str(das):\n",
    "                        self.df.at[admin,var] = df_paso.loc[df_paso[0]==das,1].values[0]\n",
    "                        continue\n",
    "    def Cambiosignodataframe(self):\n",
    "        ### en el dataframe los valores con ? son los que se encuentran vacios\n",
    "        for kan in self.df.columns:\n",
    "            if self.df[kan].dtype=='object':\n",
    "                self.df.loc[self.df[kan]==\"?\",kan]=None\n",
    "\n",
    "    def Removiendocolumnasvacios(self):\n",
    "        ### vamos a ver que columnas tiene valores vacios para saber si las dejamos o las quitamos\n",
    "        diccionario = dict(self.df.isnull().sum()/self.df.shape[0])\n",
    "        new_dictionary = dict(filter(lambda x: x[1]<0.3, diccionario.items()))\n",
    "        ### quitamos las variables que tienen más del 30% de valores vacios\n",
    "        df_new = self.df[list(new_dictionary.keys())]\n",
    "        self.df_new = df_new.copy()\n",
    "    def PruebaChi(self):\n",
    "        ### vamos a calcular la prueba chi cuadrado para verficiar si es bueno añadir o no algunas variables caregoricas al modelo\n",
    "        \n",
    "        pruebca_chi = {}\n",
    "        for hakim in self.df_new.select_dtypes(['object']).columns:\n",
    "            stat, p, dof, expected = chi2_contingency(pd.crosstab(self.df_new['readmitted'],self.df_new[hakim]))\n",
    "            pruebca_chi[hakim] = p\n",
    "        variables_prueba_chi = dict(filter(lambda x: x[1]<0.05, pruebca_chi.items())).keys()\n",
    "        variables_numericas = list(self.df_new.select_dtypes([np.number]).columns)\n",
    "        variables_numericas.remove('encounter_id')\n",
    "        variables_numericas.remove('patient_nbr')\n",
    "        df_modelo = self.df_new[variables_numericas+list(variables_prueba_chi)]\n",
    "        self.df_modelo = df_modelo.copy()\n",
    "    \n"
   ]
  },
  {
   "cell_type": "code",
   "execution_count": 4,
   "metadata": {},
   "outputs": [],
   "source": [
    "#### Clase para procesamiento y modelado\n",
    "class Modelado:\n",
    "    def __init__(self,df_modelo):\n",
    "        self.df_modelo = df_modelo\n",
    "        self.ruta_modelos = \"../models/\"\n",
    "    def Division_X_y(self):\n",
    "        self.X = self.df_modelo.drop(['readmitted'],axis=1)\n",
    "        self.y= self.df_modelo[['readmitted']]\n",
    "        self.col_categoricos = self.X.select_dtypes(\"object\").columns\n",
    "        self.col_numericos = self.X.select_dtypes(np.number).columns\n",
    "    def Definicion_modelos(self):\n",
    "        ## Lista para añadir modelos para ejecución\n",
    "        self.clsf = []\n",
    "        self.clsf.append(LogisticRegression(random_state=19))\n",
    "        self.clsf.append(RandomForestClassifier(n_estimators=50,random_state=19))\n",
    "        self.clsf.append(GradientBoostingClassifier(n_estimators=50,random_state=19))\n",
    "        self.clsf.append(AdaBoostClassifier(n_estimators=50,random_state=19))\n",
    "        self.clsf.append(AdaBoostClassifier(random_state=19))\n",
    "    def Modelo(self):\n",
    "        #### imputación de datos\n",
    "        \n",
    "        self.resultados = {}\n",
    "        for i in self.clsf:\n",
    "            print(\"Ejecutando el modelo: \", i)\n",
    "            label = LabelEncoder()\n",
    "            impute = SimpleImputer(strategy='mean')\n",
    "            numeric_transformer = StandardScaler()\n",
    "            categorical_transformer = OneHotEncoder()\n",
    "            preprocessor = ColumnTransformer(\n",
    "                    transformers=[\n",
    "                        (\"imputer\", impute,self.col_numericos),\n",
    "                        (\"categorical\",categorical_transformer,self.col_categoricos),\n",
    "                            (\"numerico\",numeric_transformer, self.col_numericos)\n",
    "                        ]\n",
    "                )\n",
    "            clf = Pipeline(\n",
    "                    steps=[('preprocessor',preprocessor)]\n",
    "                )\n",
    "            clf_modelo = Pipeline(\n",
    "                    steps=[(\"Preprocesando\",clf),(\"Modelando\",i)]\n",
    "                )\n",
    "\n",
    "                #### \n",
    "                \n",
    "            X_train,self.X_test,y_train,self.y_test = train_test_split(self.X,self.y,test_size=0.3\n",
    "                            ,stratify=self.y,random_state=19)\n",
    "            clf_modelo.fit(self.X,self.y)\n",
    "            print(\"Score: \",clf_modelo.score(self.X_test,self.y_test))\n",
    "            self.resultados[f'{i}'] = clf_modelo.score(self.X_test,self.y_test)\n",
    "\n",
    "            #### exportando el modelo\n",
    "            joblib.dump(clf_modelo,os.path.join(self.ruta_modelos,f\"{i}.pkl\"))\n",
    "    def Eval(self,name_model):\n",
    "        from sklearn.metrics import classification_report\n",
    "        modelo_pr = joblib.load(os.path.join(self.ruta_modelos,f'{name_model}.pkl'))\n",
    "        prediccion = modelo_pr.predict(self.X_test)\n",
    "        return print(classification_report(self.y_test,prediccion))"
   ]
  },
  {
   "attachments": {},
   "cell_type": "markdown",
   "metadata": {},
   "source": [
    "### Lectura, Preprocesamiento y Visualización"
   ]
  },
  {
   "cell_type": "code",
   "execution_count": 5,
   "metadata": {},
   "outputs": [
    {
     "name": "stderr",
     "output_type": "stream",
     "text": [
      "100%|██████████| 3/3 [02:48<00:00, 56.01s/it]\n"
     ]
    }
   ],
   "source": [
    "objeto1 = ProcesamientoInicial(ruta_proce)\n",
    "objeto1.Procesamientocategoriascodigos()\n",
    "objeto1.Cambiocategorias()\n",
    "objeto1.Cambiosignodataframe()\n",
    "objeto1.Removiendocolumnasvacios()\n",
    "objeto1.PruebaChi()"
   ]
  },
  {
   "cell_type": "code",
   "execution_count": 6,
   "metadata": {},
   "outputs": [],
   "source": [
    "df_new = objeto1.df_new"
   ]
  },
  {
   "attachments": {},
   "cell_type": "markdown",
   "metadata": {},
   "source": [
    "### Análisis Exploratorio de los Datos\n",
    "\n",
    "vamos a revisar algunas variables para ver su comportamiento"
   ]
  },
  {
   "cell_type": "code",
   "execution_count": 7,
   "metadata": {},
   "outputs": [
    {
     "data": {
      "text/html": [
       "<div>\n",
       "<style scoped>\n",
       "    .dataframe tbody tr th:only-of-type {\n",
       "        vertical-align: middle;\n",
       "    }\n",
       "\n",
       "    .dataframe tbody tr th {\n",
       "        vertical-align: top;\n",
       "    }\n",
       "\n",
       "    .dataframe thead th {\n",
       "        text-align: right;\n",
       "    }\n",
       "</style>\n",
       "<table border=\"1\" class=\"dataframe\">\n",
       "  <thead>\n",
       "    <tr style=\"text-align: right;\">\n",
       "      <th></th>\n",
       "      <th>encounter_id</th>\n",
       "      <th>patient_nbr</th>\n",
       "      <th>time_in_hospital</th>\n",
       "      <th>num_lab_procedures</th>\n",
       "      <th>num_procedures</th>\n",
       "      <th>num_medications</th>\n",
       "      <th>number_outpatient</th>\n",
       "      <th>number_emergency</th>\n",
       "      <th>number_inpatient</th>\n",
       "      <th>number_diagnoses</th>\n",
       "    </tr>\n",
       "  </thead>\n",
       "  <tbody>\n",
       "    <tr>\n",
       "      <th>count</th>\n",
       "      <td>1.017660e+05</td>\n",
       "      <td>1.017660e+05</td>\n",
       "      <td>101766.000000</td>\n",
       "      <td>101766.000000</td>\n",
       "      <td>101766.000000</td>\n",
       "      <td>101766.000000</td>\n",
       "      <td>101766.000000</td>\n",
       "      <td>101766.000000</td>\n",
       "      <td>101766.000000</td>\n",
       "      <td>101766.000000</td>\n",
       "    </tr>\n",
       "    <tr>\n",
       "      <th>mean</th>\n",
       "      <td>1.652016e+08</td>\n",
       "      <td>5.433040e+07</td>\n",
       "      <td>4.395987</td>\n",
       "      <td>43.095641</td>\n",
       "      <td>1.339730</td>\n",
       "      <td>16.021844</td>\n",
       "      <td>0.369357</td>\n",
       "      <td>0.197836</td>\n",
       "      <td>0.635566</td>\n",
       "      <td>7.422607</td>\n",
       "    </tr>\n",
       "    <tr>\n",
       "      <th>std</th>\n",
       "      <td>1.026403e+08</td>\n",
       "      <td>3.869636e+07</td>\n",
       "      <td>2.985108</td>\n",
       "      <td>19.674362</td>\n",
       "      <td>1.705807</td>\n",
       "      <td>8.127566</td>\n",
       "      <td>1.267265</td>\n",
       "      <td>0.930472</td>\n",
       "      <td>1.262863</td>\n",
       "      <td>1.933600</td>\n",
       "    </tr>\n",
       "    <tr>\n",
       "      <th>min</th>\n",
       "      <td>1.252200e+04</td>\n",
       "      <td>1.350000e+02</td>\n",
       "      <td>1.000000</td>\n",
       "      <td>1.000000</td>\n",
       "      <td>0.000000</td>\n",
       "      <td>1.000000</td>\n",
       "      <td>0.000000</td>\n",
       "      <td>0.000000</td>\n",
       "      <td>0.000000</td>\n",
       "      <td>1.000000</td>\n",
       "    </tr>\n",
       "    <tr>\n",
       "      <th>25%</th>\n",
       "      <td>8.496119e+07</td>\n",
       "      <td>2.341322e+07</td>\n",
       "      <td>2.000000</td>\n",
       "      <td>31.000000</td>\n",
       "      <td>0.000000</td>\n",
       "      <td>10.000000</td>\n",
       "      <td>0.000000</td>\n",
       "      <td>0.000000</td>\n",
       "      <td>0.000000</td>\n",
       "      <td>6.000000</td>\n",
       "    </tr>\n",
       "    <tr>\n",
       "      <th>50%</th>\n",
       "      <td>1.523890e+08</td>\n",
       "      <td>4.550514e+07</td>\n",
       "      <td>4.000000</td>\n",
       "      <td>44.000000</td>\n",
       "      <td>1.000000</td>\n",
       "      <td>15.000000</td>\n",
       "      <td>0.000000</td>\n",
       "      <td>0.000000</td>\n",
       "      <td>0.000000</td>\n",
       "      <td>8.000000</td>\n",
       "    </tr>\n",
       "    <tr>\n",
       "      <th>75%</th>\n",
       "      <td>2.302709e+08</td>\n",
       "      <td>8.754595e+07</td>\n",
       "      <td>6.000000</td>\n",
       "      <td>57.000000</td>\n",
       "      <td>2.000000</td>\n",
       "      <td>20.000000</td>\n",
       "      <td>0.000000</td>\n",
       "      <td>0.000000</td>\n",
       "      <td>1.000000</td>\n",
       "      <td>9.000000</td>\n",
       "    </tr>\n",
       "    <tr>\n",
       "      <th>max</th>\n",
       "      <td>4.438672e+08</td>\n",
       "      <td>1.895026e+08</td>\n",
       "      <td>14.000000</td>\n",
       "      <td>132.000000</td>\n",
       "      <td>6.000000</td>\n",
       "      <td>81.000000</td>\n",
       "      <td>42.000000</td>\n",
       "      <td>76.000000</td>\n",
       "      <td>21.000000</td>\n",
       "      <td>16.000000</td>\n",
       "    </tr>\n",
       "  </tbody>\n",
       "</table>\n",
       "</div>"
      ],
      "text/plain": [
       "       encounter_id   patient_nbr  time_in_hospital  num_lab_procedures  \\\n",
       "count  1.017660e+05  1.017660e+05     101766.000000       101766.000000   \n",
       "mean   1.652016e+08  5.433040e+07          4.395987           43.095641   \n",
       "std    1.026403e+08  3.869636e+07          2.985108           19.674362   \n",
       "min    1.252200e+04  1.350000e+02          1.000000            1.000000   \n",
       "25%    8.496119e+07  2.341322e+07          2.000000           31.000000   \n",
       "50%    1.523890e+08  4.550514e+07          4.000000           44.000000   \n",
       "75%    2.302709e+08  8.754595e+07          6.000000           57.000000   \n",
       "max    4.438672e+08  1.895026e+08         14.000000          132.000000   \n",
       "\n",
       "       num_procedures  num_medications  number_outpatient  number_emergency  \\\n",
       "count   101766.000000    101766.000000      101766.000000     101766.000000   \n",
       "mean         1.339730        16.021844           0.369357          0.197836   \n",
       "std          1.705807         8.127566           1.267265          0.930472   \n",
       "min          0.000000         1.000000           0.000000          0.000000   \n",
       "25%          0.000000        10.000000           0.000000          0.000000   \n",
       "50%          1.000000        15.000000           0.000000          0.000000   \n",
       "75%          2.000000        20.000000           0.000000          0.000000   \n",
       "max          6.000000        81.000000          42.000000         76.000000   \n",
       "\n",
       "       number_inpatient  number_diagnoses  \n",
       "count     101766.000000     101766.000000  \n",
       "mean           0.635566          7.422607  \n",
       "std            1.262863          1.933600  \n",
       "min            0.000000          1.000000  \n",
       "25%            0.000000          6.000000  \n",
       "50%            0.000000          8.000000  \n",
       "75%            1.000000          9.000000  \n",
       "max           21.000000         16.000000  "
      ]
     },
     "execution_count": 7,
     "metadata": {},
     "output_type": "execute_result"
    }
   ],
   "source": [
    "df_new.describe()"
   ]
  },
  {
   "cell_type": "code",
   "execution_count": 8,
   "metadata": {},
   "outputs": [
    {
     "data": {
      "text/plain": [
       "<AxesSubplot:>"
      ]
     },
     "execution_count": 8,
     "metadata": {},
     "output_type": "execute_result"
    },
    {
     "data": {
      "image/png": "[encoded data removed]",
      "text/plain": [
       "<Figure size 720x720 with 1 Axes>"
      ]
     },
     "metadata": {
      "needs_background": "light"
     },
     "output_type": "display_data"
    }
   ],
   "source": [
    "#### proporción readmitted\n",
    "df_new['readmitted'].value_counts(normalize=True).plot(kind='bar', figsize=(10,10))"
   ]
  },
  {
   "cell_type": "code",
   "execution_count": 9,
   "metadata": {},
   "outputs": [],
   "source": [
    "\n",
    "def App_grafico(df_frame_ingreso):\n",
    "    select_origin = pn.widgets.Select(options= list(df_frame_ingreso.select_dtypes('object').columns), name = \"Variables\")\n",
    "    @pn.depends(select_origin)\n",
    "    def crea_grafica_1(select_origin):\n",
    "        df_group = df_frame_ingreso.groupby([select_origin,'readmitted'],as_index=False).size()\n",
    "        df_group = df_group.merge(df_group.groupby([select_origin],as_index=False).sum(),on=select_origin)\n",
    "        df_group['porcentaje'] = df_group['size_x']/df_group['size_y']\n",
    "        fig = px.bar(df_group,x=select_origin,color='readmitted',y='porcentaje', barmode='group')\n",
    "        return fig\n",
    "    return pn.Column(select_origin,crea_grafica_1).save(f'../data/processed/graficos.html', embed=True)"
   ]
  },
  {
   "cell_type": "code",
   "execution_count": 10,
   "metadata": {},
   "outputs": [
    {
     "name": "stdout",
     "output_type": "stream",
     "text": [
      "                                               \r"
     ]
    }
   ],
   "source": [
    "### creamos el html para ver las variables\n",
    "App_grafico(df_new)\n",
    "##3 si se desea ver vaya a la siguiente ruta y abra el html /data/processed/graficos.html"
   ]
  },
  {
   "cell_type": "code",
   "execution_count": 11,
   "metadata": {},
   "outputs": [],
   "source": [
    "def App_grafico_histogram(df_frame_ingreso):\n",
    "    select_origin = pn.widgets.Select(options= list(df_frame_ingreso.select_dtypes(np.number).columns), name = \"Variables\")\n",
    "    select_destin = pn.widgets.Select(options= list(df_frame_ingreso.select_dtypes(np.number).columns), name = \"Variables2\")\n",
    "    @pn.depends(select_origin,select_destin)\n",
    "    def crea_grafica_1(select_origin,select_destin):\n",
    "        fig = px.histogram(df_frame_ingreso, x=select_origin,nbins=100, color='readmitted',template=\"plotly_white\")\n",
    "        return fig\n",
    "    return pn.Column(select_origin,crea_grafica_1).save(f'../data/processed/graficos_histogram.html', embed=True)"
   ]
  },
  {
   "cell_type": "code",
   "execution_count": 12,
   "metadata": {},
   "outputs": [
    {
     "name": "stdout",
     "output_type": "stream",
     "text": [
      "                                               \r"
     ]
    }
   ],
   "source": [
    "App_grafico_histogram(df_new)\n",
    "##3 si se desea ver vaya a la siguiente ruta y abra el html /data/processed/graficos_histogram.html"
   ]
  },
  {
   "attachments": {},
   "cell_type": "markdown",
   "metadata": {},
   "source": [
    "#### Procesamiento y preparación de los datos para modelo"
   ]
  },
  {
   "cell_type": "code",
   "execution_count": 13,
   "metadata": {},
   "outputs": [],
   "source": [
    "def Cambiolabel(var):\n",
    "    if var=='NO':\n",
    "        return 0\n",
    "    elif var=='>30':\n",
    "        return 1\n",
    "    elif var=='<30':\n",
    "        return 2\n",
    "    else:\n",
    "        return \"Error\""
   ]
  },
  {
   "cell_type": "code",
   "execution_count": 14,
   "metadata": {},
   "outputs": [],
   "source": [
    "modelo = objeto1.df_modelo.copy()\n",
    "modelo['readmitted'] = modelo['readmitted'].apply(Cambiolabel)"
   ]
  },
  {
   "attachments": {},
   "cell_type": "markdown",
   "metadata": {},
   "source": [
    "### Análisis Confirmatorio y Procesamiento features"
   ]
  },
  {
   "cell_type": "code",
   "execution_count": 15,
   "metadata": {},
   "outputs": [
    {
     "name": "stdout",
     "output_type": "stream",
     "text": [
      "Ejecutando el modelo:  LogisticRegression(random_state=19)\n",
      "Score:  0.5823124795283328\n",
      "Ejecutando el modelo:  RandomForestClassifier(n_estimators=50, random_state=19)\n",
      "Score:  0.9999672453324598\n",
      "Ejecutando el modelo:  GradientBoostingClassifier(n_estimators=50, random_state=19)\n",
      "Score:  0.5884376023583361\n",
      "Ejecutando el modelo:  AdaBoostClassifier(random_state=19)\n",
      "Score:  0.5862102849656076\n",
      "Ejecutando el modelo:  AdaBoostClassifier(random_state=19)\n",
      "Score:  0.5862102849656076\n"
     ]
    }
   ],
   "source": [
    "objeto2 = Modelado(modelo)\n",
    "objeto2.Division_X_y()\n",
    "objeto2.Definicion_modelos()\n",
    "objeto2.Modelo()\n"
   ]
  },
  {
   "attachments": {},
   "cell_type": "markdown",
   "metadata": {},
   "source": [
    "### Evaluación"
   ]
  },
  {
   "cell_type": "code",
   "execution_count": 17,
   "metadata": {},
   "outputs": [
    {
     "data": {
      "text/plain": [
       "{'LogisticRegression(random_state=19)': 0.5823124795283328,\n",
       " 'RandomForestClassifier(n_estimators=50, random_state=19)': 0.9999672453324598,\n",
       " 'GradientBoostingClassifier(n_estimators=50, random_state=19)': 0.5884376023583361,\n",
       " 'AdaBoostClassifier(random_state=19)': 0.5862102849656076}"
      ]
     },
     "execution_count": 17,
     "metadata": {},
     "output_type": "execute_result"
    }
   ],
   "source": [
    "### validación score\n",
    "objeto2.resultados"
   ]
  },
  {
   "cell_type": "code",
   "execution_count": 18,
   "metadata": {},
   "outputs": [
    {
     "name": "stdout",
     "output_type": "stream",
     "text": [
      "              precision    recall  f1-score   support\n",
      "\n",
      "           0       0.60      0.87      0.71     16459\n",
      "           1       0.51      0.32      0.39     10664\n",
      "           2       0.40      0.01      0.03      3407\n",
      "\n",
      "    accuracy                           0.58     30530\n",
      "   macro avg       0.50      0.40      0.38     30530\n",
      "weighted avg       0.55      0.58      0.52     30530\n",
      "\n"
     ]
    }
   ],
   "source": [
    "objeto2.Eval('LogisticRegression(random_state=19)')"
   ]
  },
  {
   "attachments": {},
   "cell_type": "markdown",
   "metadata": {},
   "source": [
    "#### Resumen aspectos importantes\n",
    "\n",
    "##### AED\n",
    "- En el análisis exploratorio de los datos se observa que personas que son de readmisión el 28% vienen de otras clínicas\n",
    "y apenas directo a urgencias 37%\n",
    "- Las personas que se encuentran entre los 20 y 30 años, vuelven en mayor frecuencia (14%) antes de los 30 días\n",
    "que personas que están entre los 50-60 años con apenas el 9% \n",
    "- En el caso de la raza, las personas caucasicas son las que más vuelven a ser readmitidos (35%)\n",
    "- Las personas que tienen los niveles de glucosa por encima de 300, son las más recurrentes en volver,\n",
    "tanto antes de los 30 días (14%) como las que vuelven despues de 30 días (41%)\n",
    "- Las personas que vuelven antes de los 30 días se practican en mayor parte 40-44 pruebas, pueden ser personas \n",
    "que esten en algún tratamiento especifico\n",
    "\n",
    "##### ACD\n",
    "\n",
    "\n",
    "Se utilizaron modelos de ensamble, debido a la alta variablidad de los datos son los más adecuados para ello\n",
    "además se disminuyó el valor de los estimadores, ya qué, el tiempo de ejecución era muy alto, sin embargo\n",
    "también se utilizó regresión logística\n",
    "\n",
    "- El modelo de random forest tiene un problema de sobreajuste, se observan las métricas iguales a 1, lo cual supone\n",
    "un fallo en el mismo, el cual puede estar dado por los estimadores que se disminuyeron.\n",
    "- En terminos generales, el modelo de gradient boosting arrojó un valor un poco mayor que adabost, no mucho\n",
    "y tampoco es muy bueno 0.6, además al revisar las métricas por ejempo el recall no es muy bueno en la categoria 2,\n",
    "la cual corresponde a menos de 30 días, y estó reflejaría una falla en encontrar potenciales personas que volverian\n",
    "en ese tiempo\n",
    "- Es necesario para mejorar el modelo rebalancear la muestra, utilizando metodología SMOTE\n",
    "- La regresión logística a pesar de ser un algoritmo menos potente mostró mejor resultado que RandomForest\n",
    "\n"
   ]
  },
  {
   "cell_type": "code",
   "execution_count": null,
   "metadata": {},
   "outputs": [],
   "source": []
  }
 ],
 "metadata": {
  "kernelspec": {
   "display_name": "geofull",
   "language": "python",
   "name": "python3"
  },
  "language_info": {
   "codemirror_mode": {
    "name": "ipython",
    "version": 3
   },
   "file_extension": ".py",
   "mimetype": "text/x-python",
   "name": "python",
   "nbconvert_exporter": "python",
   "pygments_lexer": "ipython3",
   "version": "3.7.10"
  },
  "orig_nbformat": 4,
  "vscode": {
   "interpreter": {
    "hash": "bbea108acc5b932747fab1df95fe3995dbf44a96b713be8a7158f200bdaa6c07"
   }
  }
 },
 "nbformat": 4,
 "nbformat_minor": 2
}
